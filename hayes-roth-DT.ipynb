{
 "cells": [
  {
   "cell_type": "code",
   "execution_count": 1,
   "metadata": {},
   "outputs": [],
   "source": [
    "import numpy as np\n",
    "import pandas as pd"
   ]
  },
  {
   "cell_type": "markdown",
   "metadata": {},
   "source": [
    "## Importing The Train and Test sets ##"
   ]
  },
  {
   "cell_type": "code",
   "execution_count": 2,
   "metadata": {},
   "outputs": [],
   "source": [
    "dataset_train = pd.read_csv(\"hayes-roth.data\", names=[\"name\",\"hobby\",\"age\",\"edu_level\",\"material_status\",\"class\"], header=None)\n",
    "dataset_test = pd.read_csv(\"hayes-roth.test\", names=[\"hobby\",\"age\",\"edu_level\",\"material_status\",\"class\"], header=None)"
   ]
  },
  {
   "cell_type": "code",
   "execution_count": 3,
   "metadata": {},
   "outputs": [
    {
     "name": "stdout",
     "output_type": "stream",
     "text": [
      "<class 'pandas.core.frame.DataFrame'>\n",
      "RangeIndex: 132 entries, 0 to 131\n",
      "Data columns (total 6 columns):\n",
      " #   Column           Non-Null Count  Dtype\n",
      "---  ------           --------------  -----\n",
      " 0   name             132 non-null    int64\n",
      " 1   hobby            132 non-null    int64\n",
      " 2   age              132 non-null    int64\n",
      " 3   edu_level        132 non-null    int64\n",
      " 4   material_status  132 non-null    int64\n",
      " 5   class            132 non-null    int64\n",
      "dtypes: int64(6)\n",
      "memory usage: 6.3 KB\n"
     ]
    },
    {
     "data": {
      "text/plain": [
       "(   name  hobby  age  edu_level  material_status  class\n",
       " 0    92      2    1          1                2      1\n",
       " 1    10      2    1          3                2      2\n",
       " 2    83      3    1          4                1      3\n",
       " 3    61      2    4          2                2      3\n",
       " 4   107      1    1          3                4      3,\n",
       " None)"
      ]
     },
     "execution_count": 3,
     "metadata": {},
     "output_type": "execute_result"
    }
   ],
   "source": [
    "dataset_train.head(), dataset_train.info()"
   ]
  },
  {
   "cell_type": "code",
   "execution_count": 4,
   "metadata": {},
   "outputs": [
    {
     "name": "stdout",
     "output_type": "stream",
     "text": [
      "<class 'pandas.core.frame.DataFrame'>\n",
      "RangeIndex: 28 entries, 0 to 27\n",
      "Data columns (total 5 columns):\n",
      " #   Column           Non-Null Count  Dtype\n",
      "---  ------           --------------  -----\n",
      " 0   hobby            28 non-null     int64\n",
      " 1   age              28 non-null     int64\n",
      " 2   edu_level        28 non-null     int64\n",
      " 3   material_status  28 non-null     int64\n",
      " 4   class            28 non-null     int64\n",
      "dtypes: int64(5)\n",
      "memory usage: 1.2 KB\n"
     ]
    },
    {
     "data": {
      "text/plain": [
       "(   hobby  age  edu_level  material_status  class\n",
       " 0      1    1          1                2      1\n",
       " 1      1    1          2                1      1\n",
       " 2      1    2          1                1      1\n",
       " 3      1    1          1                3      1\n",
       " 4      1    1          3                1      1,\n",
       " None)"
      ]
     },
     "execution_count": 4,
     "metadata": {},
     "output_type": "execute_result"
    }
   ],
   "source": [
    "dataset_test.head(), dataset_test.info()"
   ]
  },
  {
   "cell_type": "code",
   "execution_count": 5,
   "metadata": {},
   "outputs": [],
   "source": [
    "X_train = dataset_train.drop(columns=[\"name\", \"class\"]).copy()\n",
    "y_train = dataset_train[\"class\"].copy()\n",
    "X_test = dataset_test.drop(columns=[\"class\"]).copy()\n",
    "y_test = dataset_test[\"class\"].copy()"
   ]
  },
  {
   "cell_type": "markdown",
   "metadata": {},
   "source": [
    "## Data preprocessing ##"
   ]
  },
  {
   "cell_type": "code",
   "execution_count": 6,
   "metadata": {},
   "outputs": [],
   "source": [
    "X_train[[\"hobby\",\"edu_level\",\"material_status\"]] = X_train[[\"hobby\",\"edu_level\",\"material_status\"]].astype(str)\n",
    "X_test[[\"hobby\",\"edu_level\",\"material_status\"]] = X_test[[\"hobby\",\"edu_level\",\"material_status\"]].astype(str)"
   ]
  },
  {
   "cell_type": "markdown",
   "metadata": {},
   "source": [
    "## Decision Tree Model"
   ]
  },
  {
   "cell_type": "code",
   "execution_count": 24,
   "metadata": {},
   "outputs": [
    {
     "data": {
      "text/plain": [
       "DecisionTreeClassifier(random_state=0)"
      ]
     },
     "execution_count": 24,
     "metadata": {},
     "output_type": "execute_result"
    }
   ],
   "source": [
    "from sklearn.tree import DecisionTreeClassifier\n",
    "dt_classifier = DecisionTreeClassifier(random_state=0)\n",
    "dt_classifier.fit(X_train, y_train)"
   ]
  },
  {
   "cell_type": "code",
   "execution_count": 35,
   "metadata": {},
   "outputs": [
    {
     "name": "stdout",
     "output_type": "stream",
     "text": [
      "[[11  1  0]\n",
      " [ 3 12  0]\n",
      " [ 0  0  1]]\n",
      "              precision    recall  f1-score   support\n",
      "\n",
      "           1       0.79      0.92      0.85        12\n",
      "           2       0.92      0.80      0.86        15\n",
      "           3       1.00      1.00      1.00         1\n",
      "\n",
      "    accuracy                           0.86        28\n",
      "   macro avg       0.90      0.91      0.90        28\n",
      "weighted avg       0.87      0.86      0.86        28\n",
      "\n",
      "------------------------------Training Set Report------------------------------\n",
      "\n",
      "              precision    recall  f1-score   support\n",
      "\n",
      "           1       0.94      0.84      0.89        57\n",
      "           2       0.82      0.93      0.87        45\n",
      "           3       1.00      1.00      1.00        30\n",
      "\n",
      "    accuracy                           0.91       132\n",
      "   macro avg       0.92      0.93      0.92       132\n",
      "weighted avg       0.91      0.91      0.91       132\n",
      "\n",
      "\n",
      "without hyperparameter DT Depth is 10\n"
     ]
    }
   ],
   "source": [
    "from sklearn.metrics import confusion_matrix, classification_report\n",
    "y_pred = dt_classifier.predict(X_test)\n",
    "print(confusion_matrix(y_pred, y_test))\n",
    "print(classification_report(y_pred, y_test))\n",
    "print(30*'-' + \"Training Set Report\" + 30*'-' + '\\n')\n",
    "print(classification_report(dt_classifier.predict(X_train), y_train))\n",
    "print(\"\\nwithout hyperparameter DT Depth is\", dt_classifier.get_depth())"
   ]
  },
  {
   "cell_type": "markdown",
   "metadata": {},
   "source": [
    "## 5-Cross Validation for tuing Depth hyperparameter"
   ]
  },
  {
   "cell_type": "code",
   "execution_count": 23,
   "metadata": {},
   "outputs": [
    {
     "name": "stdout",
     "output_type": "stream",
     "text": [
      "Optimal Depth: 6\n",
      "accuracy score: 0.8638176638176638\n"
     ]
    }
   ],
   "source": [
    "from sklearn.model_selection import GridSearchCV\n",
    "\n",
    "params = {'max_depth': range(1,11)}\n",
    "scoring = 'accuracy'\n",
    "\n",
    "dt_classifier_grid = DecisionTreeClassifier()\n",
    "dt_gridsearch = GridSearchCV(dt_classifier_grid, param_grid = params, scoring = scoring)\n",
    "dt_gridsearch.fit(X_train, y_train)\n",
    "\n",
    "print(\"Optimal Depth:\", dt_gridsearch.best_estimator_.max_depth)\n",
    "print(\"accuracy score:\", dt_gridsearch.best_score_)"
   ]
  },
  {
   "cell_type": "code",
   "execution_count": 39,
   "metadata": {},
   "outputs": [
    {
     "data": {
      "text/plain": [
       "array([0.43219373, 0.51538462, 0.60626781, 0.61339031, 0.63589744,\n",
       "       0.86381766, 0.86353276, 0.81823362, 0.83361823, 0.83361823])"
      ]
     },
     "execution_count": 39,
     "metadata": {},
     "output_type": "execute_result"
    }
   ],
   "source": [
    "dt_gridsearch.cv_results_['mean_test_score'] # for max_depth=10 mean accuracy score for val sets is 0.83"
   ]
  },
  {
   "cell_type": "code",
   "execution_count": 21,
   "metadata": {},
   "outputs": [
    {
     "data": {
      "text/plain": [
       "DecisionTreeClassifier(max_depth=6, random_state=0)"
      ]
     },
     "execution_count": 21,
     "metadata": {},
     "output_type": "execute_result"
    }
   ],
   "source": [
    "dt_optimaldepth_classifier = DecisionTreeClassifier(max_depth = 6, random_state = 0)\n",
    "dt_optimaldepth_classifier.fit(X_train, y_train)"
   ]
  },
  {
   "cell_type": "code",
   "execution_count": 36,
   "metadata": {},
   "outputs": [
    {
     "name": "stdout",
     "output_type": "stream",
     "text": [
      "[[ 7  0  0]\n",
      " [ 7 13  0]\n",
      " [ 0  0  1]]\n",
      "              precision    recall  f1-score   support\n",
      "\n",
      "           1       0.50      1.00      0.67         7\n",
      "           2       1.00      0.65      0.79        20\n",
      "           3       1.00      1.00      1.00         1\n",
      "\n",
      "    accuracy                           0.75        28\n",
      "   macro avg       0.83      0.88      0.82        28\n",
      "weighted avg       0.88      0.75      0.77        28\n",
      "\n",
      "------------------------------Training Set Report------------------------------\n",
      "\n",
      "              precision    recall  f1-score   support\n",
      "\n",
      "           1       0.65      1.00      0.79        33\n",
      "           2       1.00      0.74      0.85        69\n",
      "           3       1.00      1.00      1.00        30\n",
      "\n",
      "    accuracy                           0.86       132\n",
      "   macro avg       0.88      0.91      0.88       132\n",
      "weighted avg       0.91      0.86      0.87       132\n",
      "\n",
      "\n",
      "using hyperparameter tuning DT Depth is 6\n"
     ]
    }
   ],
   "source": [
    "y_pred = dt_optimaldepth_classifier.predict(X_test)\n",
    "print(confusion_matrix(y_pred, y_test))\n",
    "print(classification_report(y_pred, y_test))\n",
    "print(30*'-' + \"Training Set Report\" + 30*'-' + '\\n')\n",
    "print(classification_report(dt_optimaldepth_classifier.predict(X_train), y_train))\n",
    "print(\"\\nusing hyperparameter tuning DT Depth is\", dt_optimaldepth_classifier.get_depth())"
   ]
  }
 ],
 "metadata": {
  "interpreter": {
   "hash": "2b705c13480b6a5bff3b4f26008f695a6c25f8fbe157c017803a21576361629f"
  },
  "kernelspec": {
   "display_name": "Python 3.7.4 64-bit ('base': conda)",
   "language": "python",
   "name": "python3"
  },
  "language_info": {
   "codemirror_mode": {
    "name": "ipython",
    "version": 3
   },
   "file_extension": ".py",
   "mimetype": "text/x-python",
   "name": "python",
   "nbconvert_exporter": "python",
   "pygments_lexer": "ipython3",
   "version": "3.7.7"
  },
  "orig_nbformat": 4
 },
 "nbformat": 4,
 "nbformat_minor": 2
}
