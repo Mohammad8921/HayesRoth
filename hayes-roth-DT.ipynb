{
 "cells": [
  {
   "cell_type": "code",
   "execution_count": 19,
   "metadata": {},
   "outputs": [],
   "source": [
    "import numpy as np\n",
    "import pandas as pd"
   ]
  },
  {
   "cell_type": "markdown",
   "metadata": {},
   "source": [
    "## Importing The Train and Test sets ##"
   ]
  },
  {
   "cell_type": "code",
   "execution_count": 20,
   "metadata": {},
   "outputs": [],
   "source": [
    "dataset_train = pd.read_csv(\"hayes-roth.data\", names=[\"name\",\"hobby\",\"age\",\"edu_level\",\"material_status\",\"class\"], header=None)\n",
    "dataset_test = pd.read_csv(\"hayes-roth.test\", names=[\"hobby\",\"age\",\"edu_level\",\"material_status\",\"class\"], header=None)"
   ]
  },
  {
   "cell_type": "code",
   "execution_count": 21,
   "metadata": {},
   "outputs": [
    {
     "name": "stdout",
     "output_type": "stream",
     "text": [
      "<class 'pandas.core.frame.DataFrame'>\n",
      "RangeIndex: 132 entries, 0 to 131\n",
      "Data columns (total 6 columns):\n",
      " #   Column           Non-Null Count  Dtype\n",
      "---  ------           --------------  -----\n",
      " 0   name             132 non-null    int64\n",
      " 1   hobby            132 non-null    int64\n",
      " 2   age              132 non-null    int64\n",
      " 3   edu_level        132 non-null    int64\n",
      " 4   material_status  132 non-null    int64\n",
      " 5   class            132 non-null    int64\n",
      "dtypes: int64(6)\n",
      "memory usage: 6.3 KB\n"
     ]
    },
    {
     "data": {
      "text/plain": [
       "(   name  hobby  age  edu_level  material_status  class\n",
       " 0    92      2    1          1                2      1\n",
       " 1    10      2    1          3                2      2\n",
       " 2    83      3    1          4                1      3\n",
       " 3    61      2    4          2                2      3\n",
       " 4   107      1    1          3                4      3,\n",
       " None)"
      ]
     },
     "execution_count": 21,
     "metadata": {},
     "output_type": "execute_result"
    }
   ],
   "source": [
    "dataset_train.head(), dataset_train.info()"
   ]
  },
  {
   "cell_type": "code",
   "execution_count": 22,
   "metadata": {},
   "outputs": [
    {
     "name": "stdout",
     "output_type": "stream",
     "text": [
      "<class 'pandas.core.frame.DataFrame'>\n",
      "RangeIndex: 28 entries, 0 to 27\n",
      "Data columns (total 5 columns):\n",
      " #   Column           Non-Null Count  Dtype\n",
      "---  ------           --------------  -----\n",
      " 0   hobby            28 non-null     int64\n",
      " 1   age              28 non-null     int64\n",
      " 2   edu_level        28 non-null     int64\n",
      " 3   material_status  28 non-null     int64\n",
      " 4   class            28 non-null     int64\n",
      "dtypes: int64(5)\n",
      "memory usage: 1.2 KB\n"
     ]
    },
    {
     "data": {
      "text/plain": [
       "(   hobby  age  edu_level  material_status  class\n",
       " 0      1    1          1                2      1\n",
       " 1      1    1          2                1      1\n",
       " 2      1    2          1                1      1\n",
       " 3      1    1          1                3      1\n",
       " 4      1    1          3                1      1,\n",
       " None)"
      ]
     },
     "execution_count": 22,
     "metadata": {},
     "output_type": "execute_result"
    }
   ],
   "source": [
    "dataset_test.head(), dataset_test.info()"
   ]
  },
  {
   "cell_type": "code",
   "execution_count": 23,
   "metadata": {},
   "outputs": [],
   "source": [
    "X_train = dataset_train.drop(columns=[\"name\", \"class\"]).copy()\n",
    "y_train = dataset_train[\"class\"].copy()\n",
    "X_test = dataset_test.drop(columns=[\"class\"]).copy()\n",
    "y_test = dataset_test[\"class\"].copy()"
   ]
  },
  {
   "cell_type": "markdown",
   "metadata": {},
   "source": [
    "## Data preprocessing ##"
   ]
  },
  {
   "cell_type": "code",
   "execution_count": 24,
   "metadata": {},
   "outputs": [],
   "source": [
    "X_train[[\"hobby\",\"edu_level\",\"material_status\"]] = X_train[[\"hobby\",\"edu_level\",\"material_status\"]].astype(str)\n",
    "X_test[[\"hobby\",\"edu_level\",\"material_status\"]] = X_test[[\"hobby\",\"edu_level\",\"material_status\"]].astype(str)"
   ]
  },
  {
   "cell_type": "markdown",
   "metadata": {},
   "source": [
    "## Decision Tree Model"
   ]
  },
  {
   "cell_type": "code",
   "execution_count": 25,
   "metadata": {},
   "outputs": [
    {
     "data": {
      "text/plain": [
       "DecisionTreeClassifier(random_state=0)"
      ]
     },
     "execution_count": 25,
     "metadata": {},
     "output_type": "execute_result"
    }
   ],
   "source": [
    "from sklearn.tree import DecisionTreeClassifier\n",
    "dt_classifier = DecisionTreeClassifier(random_state=0)\n",
    "dt_classifier.fit(X_train, y_train)"
   ]
  },
  {
   "cell_type": "code",
   "execution_count": 26,
   "metadata": {},
   "outputs": [
    {
     "name": "stdout",
     "output_type": "stream",
     "text": [
      "[[11  3  0]\n",
      " [ 1 12  0]\n",
      " [ 0  0  1]]\n",
      "--------------------Witout Hyperparameter Tuning (Depth=10)-----------\n",
      "\n",
      "              precision    recall  f1-score   support\n",
      "\n",
      "           1       0.92      0.79      0.85        14\n",
      "           2       0.80      0.92      0.86        13\n",
      "           3       1.00      1.00      1.00         1\n",
      "\n",
      "    accuracy                           0.86        28\n",
      "   macro avg       0.91      0.90      0.90        28\n",
      "weighted avg       0.87      0.86      0.86        28\n",
      "\n",
      "--------------------Training Set Report-------------------------------\n",
      "\n",
      "              precision    recall  f1-score   support\n",
      "\n",
      "           1       0.84      0.94      0.89        51\n",
      "           2       0.93      0.82      0.87        51\n",
      "           3       1.00      1.00      1.00        30\n",
      "\n",
      "    accuracy                           0.91       132\n",
      "   macro avg       0.93      0.92      0.92       132\n",
      "weighted avg       0.91      0.91      0.91       132\n",
      "\n"
     ]
    }
   ],
   "source": [
    "from sklearn.metrics import confusion_matrix, classification_report\n",
    "y_pred = dt_classifier.predict(X_test)\n",
    "print(confusion_matrix(y_test, y_pred))\n",
    "str1 = \"Witout Hyperparameter Tuning (Depth=10)\"\n",
    "print(20*'-' + str1 + (50-len(str1))*'-' + '\\n')\n",
    "print(classification_report(y_test, y_pred))\n",
    "str1 = \"Training Set Report\"\n",
    "print(20*'-' + str1 + (50-len(str1))*'-' + '\\n')\n",
    "print(classification_report(y_train, dt_classifier.predict(X_train)))\n"
   ]
  },
  {
   "cell_type": "markdown",
   "metadata": {},
   "source": [
    "## 5-Cross Validation for Tuing Depth Hyperparameter"
   ]
  },
  {
   "cell_type": "code",
   "execution_count": 27,
   "metadata": {},
   "outputs": [
    {
     "name": "stdout",
     "output_type": "stream",
     "text": [
      "Optimal Depth: 6\n",
      "validation accuracy score: 0.8638176638176638\n"
     ]
    }
   ],
   "source": [
    "from sklearn.model_selection import GridSearchCV\n",
    "\n",
    "params = {'max_depth': range(1,11)}\n",
    "scoring = 'accuracy'\n",
    "\n",
    "dt_classifier_grid = DecisionTreeClassifier()\n",
    "dt_gridsearch = GridSearchCV(dt_classifier_grid, param_grid = params, scoring = scoring)\n",
    "dt_gridsearch.fit(X_train, y_train)\n",
    "\n",
    "print(\"Optimal Depth:\", dt_gridsearch.best_estimator_.max_depth)\n",
    "print(\"validation accuracy score:\", dt_gridsearch.best_score_)"
   ]
  },
  {
   "cell_type": "code",
   "execution_count": 28,
   "metadata": {},
   "outputs": [
    {
     "name": "stdout",
     "output_type": "stream",
     "text": [
      "validation accuracy score for Descision Tree with Depth 10: 0.8336182336182336\n"
     ]
    }
   ],
   "source": [
    "print(\"validation accuracy score for Descision Tree with Depth 10:\", dt_gridsearch.cv_results_['mean_test_score'][9])"
   ]
  },
  {
   "cell_type": "code",
   "execution_count": 29,
   "metadata": {},
   "outputs": [
    {
     "data": {
      "text/plain": [
       "DecisionTreeClassifier(max_depth=6, random_state=0)"
      ]
     },
     "execution_count": 29,
     "metadata": {},
     "output_type": "execute_result"
    }
   ],
   "source": [
    "dt_optimaldepth_classifier = DecisionTreeClassifier(max_depth = 6, random_state = 0)\n",
    "dt_optimaldepth_classifier.fit(X_train, y_train)"
   ]
  },
  {
   "cell_type": "code",
   "execution_count": 30,
   "metadata": {},
   "outputs": [
    {
     "name": "stdout",
     "output_type": "stream",
     "text": [
      "[[ 7  7  0]\n",
      " [ 0 13  0]\n",
      " [ 0  0  1]]\n",
      "--------------------With Hyperparameter Tuning (Depth=6)--------------\n",
      "\n",
      "              precision    recall  f1-score   support\n",
      "\n",
      "           1       1.00      0.50      0.67        14\n",
      "           2       0.65      1.00      0.79        13\n",
      "           3       1.00      1.00      1.00         1\n",
      "\n",
      "    accuracy                           0.75        28\n",
      "   macro avg       0.88      0.83      0.82        28\n",
      "weighted avg       0.84      0.75      0.73        28\n",
      "\n",
      "--------------------Training Set Report-------------------------------\n",
      "\n",
      "              precision    recall  f1-score   support\n",
      "\n",
      "           1       1.00      0.65      0.79        51\n",
      "           2       0.74      1.00      0.85        51\n",
      "           3       1.00      1.00      1.00        30\n",
      "\n",
      "    accuracy                           0.86       132\n",
      "   macro avg       0.91      0.88      0.88       132\n",
      "weighted avg       0.90      0.86      0.86       132\n",
      "\n"
     ]
    }
   ],
   "source": [
    "y_pred_opt = dt_optimaldepth_classifier.predict(X_test)\n",
    "print(confusion_matrix(y_test, y_pred_opt))\n",
    "str1 = \"With Hyperparameter Tuning (Depth=6)\"\n",
    "print(20*'-' + str1 + (50-len(str1))*'-' + '\\n')\n",
    "print(classification_report(y_test, y_pred_opt))\n",
    "str1 = \"Training Set Report\"\n",
    "print(20*'-' + \"Training Set Report\" + (50-len(str1))*'-' + '\\n')\n",
    "print(classification_report(y_train, dt_optimaldepth_classifier.predict(X_train)))"
   ]
  }
 ],
 "metadata": {
  "interpreter": {
   "hash": "2b705c13480b6a5bff3b4f26008f695a6c25f8fbe157c017803a21576361629f"
  },
  "kernelspec": {
   "display_name": "Python 3.7.4 64-bit ('base': conda)",
   "language": "python",
   "name": "python3"
  },
  "language_info": {
   "codemirror_mode": {
    "name": "ipython",
    "version": 3
   },
   "file_extension": ".py",
   "mimetype": "text/x-python",
   "name": "python",
   "nbconvert_exporter": "python",
   "pygments_lexer": "ipython3",
   "version": "3.7.7"
  },
  "orig_nbformat": 4
 },
 "nbformat": 4,
 "nbformat_minor": 2
}
